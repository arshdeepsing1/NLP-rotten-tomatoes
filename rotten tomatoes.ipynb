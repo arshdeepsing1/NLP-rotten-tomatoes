{
  "nbformat": 4,
  "nbformat_minor": 0,
  "metadata": {
    "colab": {
      "name": "RottenTomatoesCode.ipynb",
      "provenance": [],
      "collapsed_sections": []
    },
    "kernelspec": {
      "name": "python3",
      "display_name": "Python 3"
    }
  },
  "cells": [
    {
      "cell_type": "code",
      "metadata": {
        "id": "J81hoJN-AHxr",
        "colab_type": "code",
        "outputId": "21f8c55f-81fd-4a3f-9427-d74942ae70d1",
        "colab": {
          "base_uri": "https://localhost:8080/",
          "height": 89
        }
      },
      "source": [
        "import numpy as np\n",
        "import pandas as pd\n",
        "import matplotlib.pyplot as plt\n",
        "import seaborn as sns\n",
        "import string\n",
        "from statistics import mean \n",
        "import nltk\n",
        "from nltk.corpus import stopwords\n",
        "from nltk.stem.porter import PorterStemmer\n",
        "from sklearn.model_selection import GridSearchCV\n",
        "from sklearn.feature_extraction.text import CountVectorizer\n",
        "from sklearn.feature_extraction.text import TfidfTransformer\n",
        "from sklearn.feature_extraction.text import TfidfVectorizer\n",
        "from sklearn import preprocessing\n",
        "from sklearn.model_selection import train_test_split\n",
        "from sklearn import metrics\n",
        "from sklearn.metrics import confusion_matrix\n",
        "from sklearn.metrics import classification_report\n",
        "from sklearn.naive_bayes import MultinomialNB\n",
        "from sklearn.naive_bayes import BernoulliNB\n",
        "from sklearn.linear_model import LogisticRegression\n",
        "from sklearn.ensemble import RandomForestClassifier\n",
        "from sklearn.manifold import TSNE\n",
        "from sklearn.cluster import KMeans\n",
        "from sklearn.neighbors import KNeighborsClassifier\n",
        "from sklearn.discriminant_analysis import LinearDiscriminantAnalysis\n",
        "from sklearn.decomposition import PCA\n",
        "from sklearn.decomposition import TruncatedSVD\n",
        "from sklearn.svm import SVC\n",
        "from keras.models import Sequential\n",
        "from keras.layers import Embedding, Conv1D, MaxPooling1D, Flatten, Dense, Dropout\n",
        "from keras.preprocessing.text import Tokenizer\n",
        "from keras.preprocessing.sequence import pad_sequences\n",
        "%matplotlib inline"
      ],
      "execution_count": 0,
      "outputs": [
        {
          "output_type": "stream",
          "text": [
            "/usr/local/lib/python3.6/dist-packages/statsmodels/tools/_testing.py:19: FutureWarning: pandas.util.testing is deprecated. Use the functions in the public API at pandas.testing instead.\n",
            "  import pandas.util.testing as tm\n",
            "Using TensorFlow backend.\n"
          ],
          "name": "stderr"
        }
      ]
    },
    {
      "cell_type": "code",
      "metadata": {
        "id": "-Olbw2XdL2cs",
        "colab_type": "code",
        "colab": {}
      },
      "source": [
        "# from google.colab import drive\n",
        "# drive.mount('/content/drive')"
      ],
      "execution_count": 0,
      "outputs": []
    },
    {
      "cell_type": "code",
      "metadata": {
        "id": "617mnbJhL2fg",
        "colab_type": "code",
        "colab": {}
      },
      "source": [
        "reviews = pd.read_csv('rotten_tomatoes_reviews1.csv', skiprows = [0], names=[\"freshness\", \"review\"])\n",
        "# reviews = pd.read_csv('/content/drive/My Drive/rotten_tomatoes_reviews1.csv', skiprows = [0], names=[\"freshness\", \"review\"])\n",
        "reviews = reviews.sample(100000, random_state=42)"
      ],
      "execution_count": 0,
      "outputs": []
    },
    {
      "cell_type": "markdown",
      "metadata": {
        "id": "tpkXf_-CMV1p",
        "colab_type": "text"
      },
      "source": [
        "# Exploratory Data Analysis"
      ]
    },
    {
      "cell_type": "code",
      "metadata": {
        "id": "avg5MVjRoSHz",
        "colab_type": "code",
        "outputId": "eb1f2b1e-ef3d-4057-cda8-8ee1e82c7dcf",
        "colab": {
          "base_uri": "https://localhost:8080/",
          "height": 202
        }
      },
      "source": [
        "reviews.head(5)"
      ],
      "execution_count": 0,
      "outputs": [
        {
          "output_type": "execute_result",
          "data": {
            "text/html": [
              "<div>\n",
              "<style scoped>\n",
              "    .dataframe tbody tr th:only-of-type {\n",
              "        vertical-align: middle;\n",
              "    }\n",
              "\n",
              "    .dataframe tbody tr th {\n",
              "        vertical-align: top;\n",
              "    }\n",
              "\n",
              "    .dataframe thead th {\n",
              "        text-align: right;\n",
              "    }\n",
              "</style>\n",
              "<table border=\"1\" class=\"dataframe\">\n",
              "  <thead>\n",
              "    <tr style=\"text-align: right;\">\n",
              "      <th></th>\n",
              "      <th>freshness</th>\n",
              "      <th>review</th>\n",
              "    </tr>\n",
              "  </thead>\n",
              "  <tbody>\n",
              "    <tr>\n",
              "      <th>227947</th>\n",
              "      <td>rotten</td>\n",
              "      <td>Gone Girl may begin a smart and promising mys...</td>\n",
              "    </tr>\n",
              "    <tr>\n",
              "      <th>130796</th>\n",
              "      <td>rotten</td>\n",
              "      <td>One of the most unnecessary sequels of all ti...</td>\n",
              "    </tr>\n",
              "    <tr>\n",
              "      <th>308424</th>\n",
              "      <td>rotten</td>\n",
              "      <td>Despite a superb cast, artful set design and ...</td>\n",
              "    </tr>\n",
              "    <tr>\n",
              "      <th>389388</th>\n",
              "      <td>fresh</td>\n",
              "      <td>Ssuperbly acted and, for much of its intricat...</td>\n",
              "    </tr>\n",
              "    <tr>\n",
              "      <th>399901</th>\n",
              "      <td>fresh</td>\n",
              "      <td>Wonder Woman is glorious.</td>\n",
              "    </tr>\n",
              "  </tbody>\n",
              "</table>\n",
              "</div>"
            ],
            "text/plain": [
              "       freshness                                             review\n",
              "227947    rotten   Gone Girl may begin a smart and promising mys...\n",
              "130796    rotten   One of the most unnecessary sequels of all ti...\n",
              "308424    rotten   Despite a superb cast, artful set design and ...\n",
              "389388     fresh   Ssuperbly acted and, for much of its intricat...\n",
              "399901     fresh                          Wonder Woman is glorious."
            ]
          },
          "metadata": {
            "tags": []
          },
          "execution_count": 12
        }
      ]
    },
    {
      "cell_type": "code",
      "metadata": {
        "id": "gc6AZRthL2ic",
        "colab_type": "code",
        "outputId": "75deee25-434d-47c0-e84b-aee6cee85713",
        "colab": {
          "base_uri": "https://localhost:8080/",
          "height": 171
        }
      },
      "source": [
        "reviews.describe()"
      ],
      "execution_count": 0,
      "outputs": [
        {
          "output_type": "execute_result",
          "data": {
            "text/html": [
              "<div>\n",
              "<style scoped>\n",
              "    .dataframe tbody tr th:only-of-type {\n",
              "        vertical-align: middle;\n",
              "    }\n",
              "\n",
              "    .dataframe tbody tr th {\n",
              "        vertical-align: top;\n",
              "    }\n",
              "\n",
              "    .dataframe thead th {\n",
              "        text-align: right;\n",
              "    }\n",
              "</style>\n",
              "<table border=\"1\" class=\"dataframe\">\n",
              "  <thead>\n",
              "    <tr style=\"text-align: right;\">\n",
              "      <th></th>\n",
              "      <th>freshness</th>\n",
              "      <th>review</th>\n",
              "    </tr>\n",
              "  </thead>\n",
              "  <tbody>\n",
              "    <tr>\n",
              "      <th>count</th>\n",
              "      <td>100000</td>\n",
              "      <td>100000</td>\n",
              "    </tr>\n",
              "    <tr>\n",
              "      <th>unique</th>\n",
              "      <td>2</td>\n",
              "      <td>92538</td>\n",
              "    </tr>\n",
              "    <tr>\n",
              "      <th>top</th>\n",
              "      <td>rotten</td>\n",
              "      <td>Parental Content Review</td>\n",
              "    </tr>\n",
              "    <tr>\n",
              "      <th>freq</th>\n",
              "      <td>50013</td>\n",
              "      <td>40</td>\n",
              "    </tr>\n",
              "  </tbody>\n",
              "</table>\n",
              "</div>"
            ],
            "text/plain": [
              "       freshness                    review\n",
              "count     100000                    100000\n",
              "unique         2                     92538\n",
              "top       rotten   Parental Content Review\n",
              "freq       50013                        40"
            ]
          },
          "metadata": {
            "tags": []
          },
          "execution_count": 3
        }
      ]
    },
    {
      "cell_type": "code",
      "metadata": {
        "id": "ed_RMHyRL2lf",
        "colab_type": "code",
        "outputId": "01b07e1d-b4e8-4a8e-ae8d-b7153931786e",
        "colab": {
          "base_uri": "https://localhost:8080/",
          "height": 171
        }
      },
      "source": [
        "reviews.groupby('freshness').describe()"
      ],
      "execution_count": 0,
      "outputs": [
        {
          "output_type": "execute_result",
          "data": {
            "text/html": [
              "<div>\n",
              "<style scoped>\n",
              "    .dataframe tbody tr th:only-of-type {\n",
              "        vertical-align: middle;\n",
              "    }\n",
              "\n",
              "    .dataframe tbody tr th {\n",
              "        vertical-align: top;\n",
              "    }\n",
              "\n",
              "    .dataframe thead tr th {\n",
              "        text-align: left;\n",
              "    }\n",
              "\n",
              "    .dataframe thead tr:last-of-type th {\n",
              "        text-align: right;\n",
              "    }\n",
              "</style>\n",
              "<table border=\"1\" class=\"dataframe\">\n",
              "  <thead>\n",
              "    <tr>\n",
              "      <th></th>\n",
              "      <th colspan=\"4\" halign=\"left\">review</th>\n",
              "    </tr>\n",
              "    <tr>\n",
              "      <th></th>\n",
              "      <th>count</th>\n",
              "      <th>unique</th>\n",
              "      <th>top</th>\n",
              "      <th>freq</th>\n",
              "    </tr>\n",
              "    <tr>\n",
              "      <th>freshness</th>\n",
              "      <th></th>\n",
              "      <th></th>\n",
              "      <th></th>\n",
              "      <th></th>\n",
              "    </tr>\n",
              "  </thead>\n",
              "  <tbody>\n",
              "    <tr>\n",
              "      <th>fresh</th>\n",
              "      <td>49987</td>\n",
              "      <td>47451</td>\n",
              "      <td>Parental Content Review</td>\n",
              "      <td>12</td>\n",
              "    </tr>\n",
              "    <tr>\n",
              "      <th>rotten</th>\n",
              "      <td>50013</td>\n",
              "      <td>45094</td>\n",
              "      <td>Parental Content Review</td>\n",
              "      <td>28</td>\n",
              "    </tr>\n",
              "  </tbody>\n",
              "</table>\n",
              "</div>"
            ],
            "text/plain": [
              "          review                                      \n",
              "           count unique                       top freq\n",
              "freshness                                             \n",
              "fresh      49987  47451   Parental Content Review   12\n",
              "rotten     50013  45094   Parental Content Review   28"
            ]
          },
          "metadata": {
            "tags": []
          },
          "execution_count": 4
        }
      ]
    },
    {
      "cell_type": "code",
      "metadata": {
        "id": "Z5FM0dGiL2oM",
        "colab_type": "code",
        "outputId": "81418ab6-6514-4bfd-d002-dc1dc133f0b1",
        "colab": {
          "base_uri": "https://localhost:8080/",
          "height": 279
        }
      },
      "source": [
        "sns.countplot(x='freshness', data=reviews)\n",
        "plt.show()"
      ],
      "execution_count": 0,
      "outputs": [
        {
          "output_type": "display_data",
          "data": {
            "image/png": "[encoded data removed]",
            "text/plain": [
              "<Figure size 432x288 with 1 Axes>"
            ]
          },
          "metadata": {
            "tags": [],
            "needs_background": "light"
          }
        }
      ]
    },
    {
      "cell_type": "code",
      "metadata": {
        "id": "xlH2tAdsL2rC",
        "colab_type": "code",
        "outputId": "dc6d5610-256e-46b1-c0c6-5e057a1cf2f5",
        "colab": {
          "base_uri": "https://localhost:8080/",
          "height": 202
        }
      },
      "source": [
        "review_lengths = reviews['review'].str.len()\n",
        "# temp_frame = pd.DataFrame(reviews['freshness'])\n",
        "reviews['length'] = review_lengths\n",
        "reviews.head()"
      ],
      "execution_count": 0,
      "outputs": [
        {
          "output_type": "execute_result",
          "data": {
            "text/html": [
              "<div>\n",
              "<style scoped>\n",
              "    .dataframe tbody tr th:only-of-type {\n",
              "        vertical-align: middle;\n",
              "    }\n",
              "\n",
              "    .dataframe tbody tr th {\n",
              "        vertical-align: top;\n",
              "    }\n",
              "\n",
              "    .dataframe thead th {\n",
              "        text-align: right;\n",
              "    }\n",
              "</style>\n",
              "<table border=\"1\" class=\"dataframe\">\n",
              "  <thead>\n",
              "    <tr style=\"text-align: right;\">\n",
              "      <th></th>\n",
              "      <th>freshness</th>\n",
              "      <th>review</th>\n",
              "      <th>length</th>\n",
              "    </tr>\n",
              "  </thead>\n",
              "  <tbody>\n",
              "    <tr>\n",
              "      <th>312423</th>\n",
              "      <td>fresh</td>\n",
              "      <td>Screenwriter/star Nickola Shreli puts some th...</td>\n",
              "      <td>153</td>\n",
              "    </tr>\n",
              "    <tr>\n",
              "      <th>6849</th>\n",
              "      <td>fresh</td>\n",
              "      <td>The Cured may owe much to viral shockers like...</td>\n",
              "      <td>165</td>\n",
              "    </tr>\n",
              "    <tr>\n",
              "      <th>361455</th>\n",
              "      <td>rotten</td>\n",
              "      <td>Kingsman: The Golden Circle stumbles in a dru...</td>\n",
              "      <td>248</td>\n",
              "    </tr>\n",
              "    <tr>\n",
              "      <th>5537</th>\n",
              "      <td>fresh</td>\n",
              "      <td>A Hitchcockian stunt, more interesting for it...</td>\n",
              "      <td>87</td>\n",
              "    </tr>\n",
              "    <tr>\n",
              "      <th>166017</th>\n",
              "      <td>rotten</td>\n",
              "      <td>[The movie] is so determined to be moral and ...</td>\n",
              "      <td>144</td>\n",
              "    </tr>\n",
              "  </tbody>\n",
              "</table>\n",
              "</div>"
            ],
            "text/plain": [
              "       freshness                                             review  length\n",
              "312423     fresh   Screenwriter/star Nickola Shreli puts some th...     153\n",
              "6849       fresh   The Cured may owe much to viral shockers like...     165\n",
              "361455    rotten   Kingsman: The Golden Circle stumbles in a dru...     248\n",
              "5537       fresh   A Hitchcockian stunt, more interesting for it...      87\n",
              "166017    rotten   [The movie] is so determined to be moral and ...     144"
            ]
          },
          "metadata": {
            "tags": []
          },
          "execution_count": 6
        }
      ]
    },
    {
      "cell_type": "code",
      "metadata": {
        "id": "4NxyCR-yL2uJ",
        "colab_type": "code",
        "outputId": "cd744a1c-da36-48b4-8f09-9ec07ccc0bda",
        "colab": {
          "base_uri": "https://localhost:8080/",
          "height": 279
        }
      },
      "source": [
        "sns.distplot(reviews['length'], kde=False)\n",
        "plt.show()"
      ],
      "execution_count": 0,
      "outputs": [
        {
          "output_type": "display_data",
          "data": {
            "image/png": "[encoded data removed]",
            "text/plain": [
              "<Figure size 432x288 with 1 Axes>"
            ]
          },
          "metadata": {
            "tags": [],
            "needs_background": "light"
          }
        }
      ]
    },
    {
      "cell_type": "code",
      "metadata": {
        "id": "mKty-BNRL2wr",
        "colab_type": "code",
        "outputId": "f04321e2-c57e-4fac-c894-dbb97237fa59",
        "colab": {
          "base_uri": "https://localhost:8080/",
          "height": 104
        }
      },
      "source": [
        "ans = reviews['length'].describe()\n",
        "print('Total number of reviews:', ans[0])\n",
        "print('Mean length of reviews:', ans[1])\n",
        "print('Minimum length of reviews:', ans[3])\n",
        "print('Maximum length of reviews:', ans[7])\n",
        "print('Standard deviation of length:', ans[2])"
      ],
      "execution_count": 0,
      "outputs": [
        {
          "output_type": "stream",
          "text": [
            "Total number of reviews: 100000.0\n",
            "Mean length of reviews: 131.47389\n",
            "Minimum length of reviews: 18.0\n",
            "Maximum length of reviews: 258.0\n",
            "Standard deviation of length: 54.66427297692026\n"
          ],
          "name": "stdout"
        }
      ]
    },
    {
      "cell_type": "code",
      "metadata": {
        "id": "DDWInExUL2zl",
        "colab_type": "code",
        "outputId": "00c4d1cd-bc4e-4b7d-a8c1-eda9dbabf0c1",
        "colab": {
          "base_uri": "https://localhost:8080/",
          "height": 279
        }
      },
      "source": [
        "sns.boxplot(x=\"freshness\", y=\"length\", data=reviews, palette='Set3')\n",
        "plt.show()"
      ],
      "execution_count": 0,
      "outputs": [
        {
          "output_type": "display_data",
          "data": {
            "image/png": "[encoded data removed]",
            "text/plain": [
              "<Figure size 432x288 with 1 Axes>"
            ]
          },
          "metadata": {
            "tags": [],
            "needs_background": "light"
          }
        }
      ]
    },
    {
      "cell_type": "markdown",
      "metadata": {
        "id": "1NPglCGKNyS2",
        "colab_type": "text"
      },
      "source": [
        "# Data Preparation"
      ]
    },
    {
      "cell_type": "code",
      "metadata": {
        "id": "hRf6Obs4L22G",
        "colab_type": "code",
        "outputId": "c03148ab-9852-45bf-9185-07e540083443",
        "colab": {
          "base_uri": "https://localhost:8080/",
          "height": 245
        }
      },
      "source": [
        "X = reviews['review']\n",
        "y = reviews['freshness']\n",
        "################################\n",
        "# y = reviews['freshness'].map({'rotten': 0, 'fresh': 1}).astype(int)\n",
        "# y = pd.DataFrame(reviews['freshness'].copy())\n",
        "# y['freshness'] = y['freshness'].map({'rotten': 0, 'fresh': 1}).astype(int)\n",
        "# y = y['freshness'].values\n",
        "################################\n",
        "train__X, test__X, train__y, test__y = train_test_split(X, y, test_size=0.20, random_state=20)\n",
        "################################\n",
        "import nltk\n",
        "nltk.download('punkt')\n",
        "nltk.download('stopwords')\n",
        "################################\n",
        "stemmer = PorterStemmer()\n",
        "def stem_tokens(tokens, stemmer):\n",
        "    stemmed = []\n",
        "    for item in tokens:\n",
        "        stemmed.append(stemmer.stem(item))\n",
        "    return stemmed\n",
        "def tokenize(text):\n",
        "    intab = string.punctuation\n",
        "    outtab = \" \"*32\n",
        "    trantab = str.maketrans(intab, outtab)\n",
        "    text = text.translate(trantab)\n",
        "    tokens = nltk.word_tokenize(text)\n",
        "    #stems = stem_tokens(tokens, stemmer)\n",
        "    table = str.maketrans('', '', string.punctuation)\n",
        "    #tokens = [w.translate(table) for w in stems]\n",
        "    tokens = [w.translate(table) for w in tokens]\n",
        "    tokens = [word for word in tokens if word.isalpha()]\n",
        "    stop_words = set(stopwords.words('english'))\n",
        "    tokens = [w for w in tokens if not w in stop_words]\n",
        "    tokens = [word for word in tokens if len(word) > 1]\n",
        "    return ' '.join(tokens)\n",
        "\n",
        "corpus_train_X = []\n",
        "for text in train__X:\n",
        "    text = text.lower()\n",
        "    text = tokenize(text)\n",
        "    corpus_train_X.append(text)\n",
        "\n",
        "print('Sample Training corpus :')\n",
        "for i in range(5):\n",
        "    print(corpus_train_X[i])\n",
        "    \n",
        "corpus_test_X = []\n",
        "for text in test__X:\n",
        "    text = text.lower()\n",
        "    text = tokenize(text)\n",
        "    corpus_test_X.append(text)\n",
        "################################\n",
        "vectorizer = TfidfVectorizer(min_df=10, max_features=3000)\n",
        "bag_of_words = vectorizer.fit(corpus_train_X) # transform train,test using train dictionary\n",
        "train_X_tv = bag_of_words.transform(corpus_train_X)\n",
        "test_X_tv = bag_of_words.transform(corpus_test_X)\n",
        "\n",
        "print(train_X_tv.shape)\n",
        "print(test_X_tv.shape)\n",
        "################################"
      ],
      "execution_count": 0,
      "outputs": [
        {
          "output_type": "stream",
          "text": [
            "[nltk_data] Downloading package punkt to /root/nltk_data...\n",
            "[nltk_data]   Unzipping tokenizers/punkt.zip.\n",
            "[nltk_data] Downloading package stopwords to /root/nltk_data...\n",
            "[nltk_data]   Unzipping corpora/stopwords.zip.\n",
            "Sample Training corpus :\n",
            "things photographable contemptuous winogrand boorishness honest reflection life work deal unvarnished whole always\n",
            "deceptive simplicity woody allen cassandra dream directness clarity rare modern filmmaking\n",
            "extravagance display nonsensical part fun movie filmed colorful dynamism jon chu embrace things lush unsubtle makes crazy rich asians great time theater\n",
            "picture fatal flaw inability give us consistent sense godzilla size\n",
            "admirable effort go different route macfarlane instead done something hopelessly bizarre given film much sincerity story practically crushes whatever fun exist\n",
            "(80000, 3000)\n",
            "(20000, 3000)\n"
          ],
          "name": "stdout"
        }
      ]
    },
    {
      "cell_type": "code",
      "metadata": {
        "id": "LIY8PTdt5VYq",
        "colab_type": "code",
        "colab": {}
      },
      "source": [
        "# train_y = train__y.map({'rotten': 0, 'fresh': 1}).astype(int)\n",
        "# test_y = test__y.map({'rotten': 0, 'fresh': 1}).astype(int)\n",
        "train_X = train_X_tv.toarray()\n",
        "test_X = test_X_tv.toarray()\n",
        "train_y = train__y\n",
        "test_y = test__y"
      ],
      "execution_count": 0,
      "outputs": []
    },
    {
      "cell_type": "markdown",
      "metadata": {
        "id": "RHChxol6otQO",
        "colab_type": "text"
      },
      "source": [
        "## Remaining EDA"
      ]
    },
    {
      "cell_type": "code",
      "metadata": {
        "id": "iHAd4j7dL3Cu",
        "colab_type": "code",
        "outputId": "78f25395-ade0-4ae5-a5fd-b0fd191ae2d5",
        "colab": {
          "base_uri": "https://localhost:8080/",
          "height": 281
        }
      },
      "source": [
        "one = []\n",
        "two = []\n",
        "lda = LinearDiscriminantAnalysis()\n",
        "lda.fit(train_X, train_y)\n",
        "xx = lda.transform(train_X)\n",
        "label_list = train_y.tolist()\n",
        "for i in range(len(label_list)):\n",
        "    if label_list[i] == 'fresh':\n",
        "        one.append(xx[i])\n",
        "    else:\n",
        "        two.append(xx[i])\n",
        "sns.distplot(one, kde=False, label='Fresh')\n",
        "sns.distplot(two, kde=False, label='Rotten')\n",
        "plt.title('Histogram of 1-D LDA Train Set')\n",
        "plt.legend()\n",
        "plt.show()"
      ],
      "execution_count": 0,
      "outputs": [
        {
          "output_type": "display_data",
          "data": {
            "image/png": "[encoded data removed]",
            "text/plain": [
              "<Figure size 432x288 with 1 Axes>"
            ]
          },
          "metadata": {
            "tags": [],
            "needs_background": "light"
          }
        }
      ]
    },
    {
      "cell_type": "code",
      "metadata": {
        "id": "9NBpvqc8L3FS",
        "colab_type": "code",
        "outputId": "9d9591b3-7234-4e8b-8880-fe902f700c4f",
        "colab": {
          "base_uri": "https://localhost:8080/",
          "height": 281
        }
      },
      "source": [
        "one = []\n",
        "two = []\n",
        "lda = LinearDiscriminantAnalysis()\n",
        "lda.fit(test_X, test_y)\n",
        "xx = lda.transform(test_X)\n",
        "label_list = test_y.tolist()\n",
        "for i in range(len(label_list)):\n",
        "    if label_list[i] == 'fresh':\n",
        "        one.append(xx[i])\n",
        "    else:\n",
        "        two.append(xx[i])\n",
        "sns.distplot(one, kde=False, label='Fresh')\n",
        "sns.distplot(two, kde=False, label='Rotten')\n",
        "plt.title('Histogram of 1-D LDA Test Set')\n",
        "plt.legend()\n",
        "plt.show()"
      ],
      "execution_count": 0,
      "outputs": [
        {
          "output_type": "display_data",
          "data": {
            "image/png": "[encoded data removed]",
            "text/plain": [
              "<Figure size 432x288 with 1 Axes>"
            ]
          },
          "metadata": {
            "tags": [],
            "needs_background": "light"
          }
        }
      ]
    },
    {
      "cell_type": "markdown",
      "metadata": {
        "id": "8szLWjXtGkDr",
        "colab_type": "text"
      },
      "source": [
        "# Algorithms"
      ]
    },
    {
      "cell_type": "markdown",
      "metadata": {
        "id": "uX5MdLGZGpwO",
        "colab_type": "text"
      },
      "source": [
        "## Naive Bayes"
      ]
    },
    {
      "cell_type": "code",
      "metadata": {
        "id": "dy9lRaSmL3H9",
        "colab_type": "code",
        "outputId": "75397f7a-4748-413f-b70f-74706f5615e6",
        "colab": {
          "base_uri": "https://localhost:8080/",
          "height": 35
        }
      },
      "source": [
        "model_NB = BernoulliNB()\n",
        "model_NB.fit(train_X, train_y)"
      ],
      "execution_count": 0,
      "outputs": [
        {
          "output_type": "execute_result",
          "data": {
            "text/plain": [
              "BernoulliNB(alpha=1.0, binarize=0.0, class_prior=None, fit_prior=True)"
            ]
          },
          "metadata": {
            "tags": []
          },
          "execution_count": 5
        }
      ]
    },
    {
      "cell_type": "code",
      "metadata": {
        "id": "RqRKvuXEMKjg",
        "colab_type": "code",
        "outputId": "ace7ab71-b083-4be4-d681-f190d8bd83ea",
        "colab": {
          "base_uri": "https://localhost:8080/",
          "height": 595
        }
      },
      "source": [
        "print('Test accuracy :', round(model_NB.score(test_X, test_y)*100,2))\n",
        "print()\n",
        "pred_test_labels = model_NB.predict(test_X)\n",
        "print('Confusion Matrix on Test Set :')\n",
        "cm=confusion_matrix(test_y, pred_test_labels)\n",
        "df_cm = pd.DataFrame(cm, index = ['fresh', 'rotten'], columns = ['fresh', 'rotten'])\n",
        "# plt.figure(figsize = (8,5))\n",
        "sns.heatmap(df_cm, annot=True, fmt=\"d\", cmap=\"YlGnBu\", annot_kws={\"fontsize\":12})\n",
        "plt.show()\n",
        "print()\n",
        "tn, fp, fn, tp = confusion_matrix(test_y, pred_test_labels).ravel()\n",
        "print('True Positives :', tp)\n",
        "print('False Positives :', fp)\n",
        "print('True Negatives :', tn)\n",
        "print('False Negatives :', fn)\n",
        "print()\n",
        "print('Classification report :')\n",
        "print(classification_report(test_y, pred_test_labels))"
      ],
      "execution_count": 0,
      "outputs": [
        {
          "output_type": "stream",
          "text": [
            "Test accuracy : 74.71\n",
            "\n",
            "Confusion Matrix on Test Set :\n"
          ],
          "name": "stdout"
        },
        {
          "output_type": "display_data",
          "data": {
            "image/png": "[encoded data removed]",
            "text/plain": [
              "<Figure size 432x288 with 2 Axes>"
            ]
          },
          "metadata": {
            "tags": [],
            "needs_background": "light"
          }
        },
        {
          "output_type": "stream",
          "text": [
            "\n",
            "True Positives : 7664\n",
            "False Positives : 2718\n",
            "True Negatives : 7278\n",
            "False Negatives : 2340\n",
            "\n",
            "Classification report :\n",
            "              precision    recall  f1-score   support\n",
            "\n",
            "       fresh       0.76      0.73      0.74      9996\n",
            "      rotten       0.74      0.77      0.75     10004\n",
            "\n",
            "    accuracy                           0.75     20000\n",
            "   macro avg       0.75      0.75      0.75     20000\n",
            "weighted avg       0.75      0.75      0.75     20000\n",
            "\n"
          ],
          "name": "stdout"
        }
      ]
    },
    {
      "cell_type": "markdown",
      "metadata": {
        "id": "nwYjVtsgTPnj",
        "colab_type": "text"
      },
      "source": [
        "## Logistic Regression"
      ]
    },
    {
      "cell_type": "code",
      "metadata": {
        "id": "GGq0FP2gL3KV",
        "colab_type": "code",
        "outputId": "17fdf85b-e1a9-48bb-a089-223e376fa638",
        "colab": {
          "base_uri": "https://localhost:8080/",
          "height": 104
        }
      },
      "source": [
        "model_LR = LogisticRegression(max_iter=1000)\n",
        "model_LR.fit(train_X, train_y)"
      ],
      "execution_count": 0,
      "outputs": [
        {
          "output_type": "execute_result",
          "data": {
            "text/plain": [
              "LogisticRegression(C=1.0, class_weight=None, dual=False, fit_intercept=True,\n",
              "                   intercept_scaling=1, l1_ratio=None, max_iter=1000,\n",
              "                   multi_class='auto', n_jobs=None, penalty='l2',\n",
              "                   random_state=None, solver='lbfgs', tol=0.0001, verbose=0,\n",
              "                   warm_start=False)"
            ]
          },
          "metadata": {
            "tags": []
          },
          "execution_count": 8
        }
      ]
    },
    {
      "cell_type": "code",
      "metadata": {
        "id": "T-EsnzXVL3Pv",
        "colab_type": "code",
        "outputId": "16727c3d-7466-4756-97f9-f66f3ac5732d",
        "colab": {
          "base_uri": "https://localhost:8080/",
          "height": 595
        }
      },
      "source": [
        "print('Test accuracy :', round(model_LR.score(test_X, test_y)*100,2))\n",
        "print()\n",
        "pred_test_labels = model_NB.predict(test_X)\n",
        "print('Confusion Matrix on Test Set :')\n",
        "cm=confusion_matrix(test_y, pred_test_labels)\n",
        "df_cm = pd.DataFrame(cm, index = ['fresh', 'rotten'], columns = ['fresh', 'rotten'])\n",
        "# plt.figure(figsize = (8,5))\n",
        "sns.heatmap(df_cm, annot=True, fmt=\"d\", cmap=\"YlGnBu\", annot_kws={\"fontsize\":12})\n",
        "plt.show()\n",
        "print()\n",
        "tn, fp, fn, tp = confusion_matrix(test_y, pred_test_labels).ravel()\n",
        "print('True Positives :', tp)\n",
        "print('False Positives :', fp)\n",
        "print('True Negatives :', tn)\n",
        "print('False Negatives :', fn)\n",
        "print()\n",
        "print('Classification report :')\n",
        "print(classification_report(test_y, pred_test_labels))"
      ],
      "execution_count": 0,
      "outputs": [
        {
          "output_type": "stream",
          "text": [
            "Test accuracy : 74.81\n",
            "\n",
            "Confusion Matrix on Test Set :\n"
          ],
          "name": "stdout"
        },
        {
          "output_type": "display_data",
          "data": {
            "image/png": "[encoded data removed]",
            "text/plain": [
              "<Figure size 432x288 with 2 Axes>"
            ]
          },
          "metadata": {
            "tags": [],
            "needs_background": "light"
          }
        },
        {
          "output_type": "stream",
          "text": [
            "\n",
            "True Positives : 7664\n",
            "False Positives : 2718\n",
            "True Negatives : 7278\n",
            "False Negatives : 2340\n",
            "\n",
            "Classification report :\n",
            "              precision    recall  f1-score   support\n",
            "\n",
            "       fresh       0.76      0.73      0.74      9996\n",
            "      rotten       0.74      0.77      0.75     10004\n",
            "\n",
            "    accuracy                           0.75     20000\n",
            "   macro avg       0.75      0.75      0.75     20000\n",
            "weighted avg       0.75      0.75      0.75     20000\n",
            "\n"
          ],
          "name": "stdout"
        }
      ]
    },
    {
      "cell_type": "markdown",
      "metadata": {
        "id": "Dka5kL-EkMlK",
        "colab_type": "text"
      },
      "source": [
        "## Random Forrest"
      ]
    },
    {
      "cell_type": "code",
      "metadata": {
        "id": "DlK7BSp_L3Xy",
        "colab_type": "code",
        "outputId": "dda02cfd-0fc1-4bd5-8362-5c902f6a524b",
        "colab": {
          "base_uri": "https://localhost:8080/",
          "height": 156
        }
      },
      "source": [
        "model_RF = RandomForestClassifier()\n",
        "model_RF.fit(train_X, train_y)"
      ],
      "execution_count": 0,
      "outputs": [
        {
          "output_type": "execute_result",
          "data": {
            "text/plain": [
              "RandomForestClassifier(bootstrap=True, ccp_alpha=0.0, class_weight=None,\n",
              "                       criterion='gini', max_depth=None, max_features='auto',\n",
              "                       max_leaf_nodes=None, max_samples=None,\n",
              "                       min_impurity_decrease=0.0, min_impurity_split=None,\n",
              "                       min_samples_leaf=1, min_samples_split=2,\n",
              "                       min_weight_fraction_leaf=0.0, n_estimators=100,\n",
              "                       n_jobs=None, oob_score=False, random_state=None,\n",
              "                       verbose=0, warm_start=False)"
            ]
          },
          "metadata": {
            "tags": []
          },
          "execution_count": 17
        }
      ]
    },
    {
      "cell_type": "code",
      "metadata": {
        "id": "xZPfqJTSL3aS",
        "colab_type": "code",
        "outputId": "df94d130-0576-46e8-8834-3f4e7fe5525d",
        "colab": {
          "base_uri": "https://localhost:8080/",
          "height": 595
        }
      },
      "source": [
        "print('Test accuracy :', round(model_RF.score(test_X, test_y)*100,2))\n",
        "print()\n",
        "pred_test_labels = model_RF.predict(test_X)\n",
        "print('Confusion Matrix on Test Set :')\n",
        "cm=confusion_matrix(test_y, pred_test_labels)\n",
        "df_cm = pd.DataFrame(cm, index = ['fresh', 'rotten'], columns = ['fresh', 'rotten'])\n",
        "# plt.figure(figsize = (8,5))\n",
        "sns.heatmap(df_cm, annot=True,fmt=\"d\", cmap=\"YlGnBu\", annot_kws={\"fontsize\":12})\n",
        "plt.show()\n",
        "print()\n",
        "tn, fp, fn, tp = confusion_matrix(test_y, pred_test_labels).ravel()\n",
        "print('True Positives :', tp)\n",
        "print('False Positives :', fp)\n",
        "print('True Negatives :', tn)\n",
        "print('False Negatives :', fn)\n",
        "print()\n",
        "print('Classification report :')\n",
        "print(classification_report(test_y, pred_test_labels))"
      ],
      "execution_count": 0,
      "outputs": [
        {
          "output_type": "stream",
          "text": [
            "Test accuracy : 74.42\n",
            "\n",
            "Confusion Matrix on Test Set :\n"
          ],
          "name": "stdout"
        },
        {
          "output_type": "display_data",
          "data": {
            "image/png": "[encoded data removed]",
            "text/plain": [
              "<Figure size 432x288 with 2 Axes>"
            ]
          },
          "metadata": {
            "tags": [],
            "needs_background": "light"
          }
        },
        {
          "output_type": "stream",
          "text": [
            "\n",
            "True Positives : 7382\n",
            "False Positives : 2493\n",
            "True Negatives : 7503\n",
            "False Negatives : 2622\n",
            "\n",
            "Classification report :\n",
            "              precision    recall  f1-score   support\n",
            "\n",
            "       fresh       0.74      0.75      0.75      9996\n",
            "      rotten       0.75      0.74      0.74     10004\n",
            "\n",
            "    accuracy                           0.74     20000\n",
            "   macro avg       0.74      0.74      0.74     20000\n",
            "weighted avg       0.74      0.74      0.74     20000\n",
            "\n"
          ],
          "name": "stdout"
        }
      ]
    },
    {
      "cell_type": "markdown",
      "metadata": {
        "id": "VgkHWN6KbR-g",
        "colab_type": "text"
      },
      "source": [
        "## SVM"
      ]
    },
    {
      "cell_type": "code",
      "metadata": {
        "id": "IGXNkE_ZMiwN",
        "colab_type": "code",
        "outputId": "e42785ca-45fe-4bf0-aa24-e22cfab29fe5",
        "colab": {
          "base_uri": "https://localhost:8080/",
          "height": 87
        }
      },
      "source": [
        "model_SVM = SVC()\n",
        "model_SVM.fit(train_X, train_y)"
      ],
      "execution_count": 0,
      "outputs": [
        {
          "output_type": "execute_result",
          "data": {
            "text/plain": [
              "SVC(C=1.0, break_ties=False, cache_size=200, class_weight=None, coef0=0.0,\n",
              "    decision_function_shape='ovr', degree=3, gamma='scale', kernel='rbf',\n",
              "    max_iter=-1, probability=False, random_state=None, shrinking=True,\n",
              "    tol=0.001, verbose=False)"
            ]
          },
          "metadata": {
            "tags": []
          },
          "execution_count": 8
        }
      ]
    },
    {
      "cell_type": "code",
      "metadata": {
        "id": "wo69Wx7CYR_y",
        "colab_type": "code",
        "outputId": "c959b6bb-4aca-498e-8f01-ed06254e02d8",
        "colab": {
          "base_uri": "https://localhost:8080/",
          "height": 595
        }
      },
      "source": [
        "print('Test accuracy :', round(model_SVM.score(test_X, test_y)*100,2))\n",
        "print()\n",
        "pred_test_labels = model_SVM.predict(test_X)\n",
        "print('Confusion Matrix on Test Set :')\n",
        "cm=confusion_matrix(test_y, pred_test_labels)\n",
        "df_cm = pd.DataFrame(cm, index = ['fresh', 'rotten'], columns = ['fresh', 'rotten'])\n",
        "# plt.figure(figsize = (8,5))\n",
        "sns.heatmap(df_cm, annot=True,fmt=\"d\", cmap='coolwarm')\n",
        "plt.show()\n",
        "print()\n",
        "tn, fp, fn, tp = confusion_matrix(test_y, pred_test_labels).ravel()\n",
        "print('True Positives :', tp)\n",
        "print('False Positives :', fp)\n",
        "print('True Negatives :', tn)\n",
        "print('False Negatives :', fn)\n",
        "print()\n",
        "print('Classification report :')\n",
        "print(classification_report(test_y, pred_test_labels))"
      ],
      "execution_count": 0,
      "outputs": [
        {
          "output_type": "stream",
          "text": [
            "Test accuracy : 75.92\n",
            "\n",
            "Confusion Matrix on Test Set :\n"
          ],
          "name": "stdout"
        },
        {
          "output_type": "display_data",
          "data": {
            "image/png": "[encoded data removed]",
            "text/plain": [
              "<Figure size 432x288 with 2 Axes>"
            ]
          },
          "metadata": {
            "tags": [],
            "needs_background": "light"
          }
        },
        {
          "output_type": "stream",
          "text": [
            "\n",
            "True Positives : 7768\n",
            "False Positives : 2589\n",
            "True Negatives : 7415\n",
            "False Negatives : 2228\n",
            "\n",
            "Classification report :\n",
            "              precision    recall  f1-score   support\n",
            "\n",
            "       fresh       0.77      0.74      0.75     10004\n",
            "      rotten       0.75      0.78      0.76      9996\n",
            "\n",
            "    accuracy                           0.76     20000\n",
            "   macro avg       0.76      0.76      0.76     20000\n",
            "weighted avg       0.76      0.76      0.76     20000\n",
            "\n"
          ],
          "name": "stdout"
        }
      ]
    },
    {
      "cell_type": "markdown",
      "metadata": {
        "id": "_MVSqgT8lGXp",
        "colab_type": "text"
      },
      "source": [
        "## Artificial Neural Network"
      ]
    },
    {
      "cell_type": "code",
      "metadata": {
        "id": "oPoPJcl4lFNp",
        "colab_type": "code",
        "colab": {}
      },
      "source": [
        "inp_shape = train_X.shape[1]"
      ],
      "execution_count": 0,
      "outputs": []
    },
    {
      "cell_type": "code",
      "metadata": {
        "id": "auVKrd4FlUYH",
        "colab_type": "code",
        "outputId": "aaccd13f-a34c-4631-b750-b13f123991b4",
        "colab": {
          "base_uri": "https://localhost:8080/",
          "height": 537
        }
      },
      "source": [
        "avg_loss = []\n",
        "avg_val_loss = []\n",
        "avg_acc = []\n",
        "avg_val_acc = []\n",
        "test_acc_list = []\n",
        "\n",
        "# train_X = train_X.toarray()\n",
        "# test_X = test_X.toarray()\n",
        "model = Sequential()\n",
        "# model.add(Dropout(0.2))\n",
        "model.add(Dense(inp_shape,input_shape=(inp_shape,), activation='relu'))\n",
        "# model.add(Dropout(0.2))\n",
        "model.add(Dense(1, activation='sigmoid'))\n",
        "model.compile(loss='binary_crossentropy', optimizer='adam', metrics=['accuracy'])\n",
        "# model.summary()\n",
        "history = model.fit(train_X, train_y,\n",
        "                epochs=15,\n",
        "                batch_size=500,\n",
        "                validation_split=0.2,\n",
        "                shuffle = True)\n",
        "loss = history.history['loss']\n",
        "# avg_loss.append(sum(loss)/len(loss))\n",
        "\n",
        "val_loss = history.history['val_loss']\n",
        "# avg_val_loss.append(sum(val_loss)/len(val_loss))\n",
        "\n",
        "acc = history.history['accuracy']\n",
        "# avg_acc.append(sum(acc)/len(acc))\n",
        "\n",
        "val_acc = history.history['val_accuracy']\n",
        "# avg_val_acc.append(sum(val_acc)/len(val_acc))\n",
        "test_loss, test_acc = model.evaluate(test_X, test_y)\n",
        "# test_acc_list.append(test_acc)"
      ],
      "execution_count": 0,
      "outputs": [
        {
          "output_type": "stream",
          "text": [
            "Train on 64000 samples, validate on 16000 samples\n",
            "Epoch 1/14\n",
            "64000/64000 [==============================] - 53s 828us/step - loss: 0.5457 - accuracy: 0.7289 - val_loss: 0.5100 - val_accuracy: 0.7458\n",
            "Epoch 2/14\n",
            "64000/64000 [==============================] - 53s 826us/step - loss: 0.4729 - accuracy: 0.7707 - val_loss: 0.5049 - val_accuracy: 0.7509\n",
            "Epoch 3/14\n",
            "64000/64000 [==============================] - 53s 828us/step - loss: 0.4372 - accuracy: 0.7948 - val_loss: 0.5073 - val_accuracy: 0.7509\n",
            "Epoch 4/14\n",
            "64000/64000 [==============================] - 52s 819us/step - loss: 0.3786 - accuracy: 0.8347 - val_loss: 0.5126 - val_accuracy: 0.7566\n",
            "Epoch 5/14\n",
            "64000/64000 [==============================] - 52s 812us/step - loss: 0.2863 - accuracy: 0.8935 - val_loss: 0.5200 - val_accuracy: 0.7617\n",
            "Epoch 6/14\n",
            "64000/64000 [==============================] - 52s 815us/step - loss: 0.1761 - accuracy: 0.9546 - val_loss: 0.5451 - val_accuracy: 0.7636\n",
            "Epoch 7/14\n",
            "64000/64000 [==============================] - 52s 817us/step - loss: 0.0933 - accuracy: 0.9862 - val_loss: 0.5649 - val_accuracy: 0.7640\n",
            "Epoch 8/14\n",
            "64000/64000 [==============================] - 52s 814us/step - loss: 0.0513 - accuracy: 0.9941 - val_loss: 0.5864 - val_accuracy: 0.7676\n",
            "Epoch 9/14\n",
            "64000/64000 [==============================] - 53s 834us/step - loss: 0.0324 - accuracy: 0.9958 - val_loss: 0.6214 - val_accuracy: 0.7689\n",
            "Epoch 10/14\n",
            "64000/64000 [==============================] - 54s 837us/step - loss: 0.0234 - accuracy: 0.9966 - val_loss: 0.6497 - val_accuracy: 0.7678\n",
            "Epoch 11/14\n",
            "64000/64000 [==============================] - 53s 834us/step - loss: 0.0189 - accuracy: 0.9966 - val_loss: 0.6725 - val_accuracy: 0.7704\n",
            "Epoch 12/14\n",
            "64000/64000 [==============================] - 53s 825us/step - loss: 0.0164 - accuracy: 0.9966 - val_loss: 0.6936 - val_accuracy: 0.7688\n",
            "Epoch 13/14\n",
            "64000/64000 [==============================] - 53s 830us/step - loss: 0.0143 - accuracy: 0.9968 - val_loss: 0.7111 - val_accuracy: 0.7701\n",
            "Epoch 14/14\n",
            "64000/64000 [==============================] - 53s 827us/step - loss: 0.0134 - accuracy: 0.9969 - val_loss: 0.7260 - val_accuracy: 0.7679\n",
            "20000/20000 [==============================] - 10s 521us/step\n"
          ],
          "name": "stdout"
        }
      ]
    },
    {
      "cell_type": "code",
      "metadata": {
        "id": "WtJbHPYdlUMN",
        "colab_type": "code",
        "outputId": "df18537d-f469-4839-f928-c028ce18f71d",
        "colab": {
          "base_uri": "https://localhost:8080/",
          "height": 595
        }
      },
      "source": [
        "print('Test accuracy :', round(test_acc*100,2))\n",
        "print()\n",
        "pred_test_labels = model.predict(test_X)\n",
        "thelist = []\n",
        "for i in range(len(test_y)):\n",
        "    if pred_test_labels[i][0] >= 0.5:\n",
        "        thelist.append(1)\n",
        "    else:\n",
        "        thelist.append(0)\n",
        "print('Confusion Matrix on Test Set :')\n",
        "cm=confusion_matrix(test_y, thelist)\n",
        "df_cm = pd.DataFrame(cm, index = ['fresh', 'rotten'], columns = ['fresh', 'rotten'])\n",
        "# plt.figure(figsize = (8,5))\n",
        "sns.heatmap(df_cm, annot=True,fmt=\"d\", cmap=\"YlGnBu\", annot_kws={\"fontsize\":12})\n",
        "plt.show()\n",
        "print()\n",
        "tn, fp, fn, tp = confusion_matrix(test_y, thelist).ravel()\n",
        "print('True Positives :', tp)\n",
        "print('False Positives :', fp)\n",
        "print('True Negatives :', tn)\n",
        "print('False Negatives :', fn)\n",
        "print()\n",
        "print('Classification report :')\n",
        "print(classification_report(test_y, thelist, target_names=['fresh', 'rotten']))"
      ],
      "execution_count": 0,
      "outputs": [
        {
          "output_type": "stream",
          "text": [
            "Test accuracy : 77.06\n",
            "\n",
            "Confusion Matrix on Test Set :\n"
          ],
          "name": "stdout"
        },
        {
          "output_type": "display_data",
          "data": {
            "image/png": "[encoded data removed]",
            "text/plain": [
              "<Figure size 432x288 with 2 Axes>"
            ]
          },
          "metadata": {
            "tags": [],
            "needs_background": "light"
          }
        },
        {
          "output_type": "stream",
          "text": [
            "\n",
            "True Positives : 7791\n",
            "False Positives : 2384\n",
            "True Negatives : 7620\n",
            "False Negatives : 2205\n",
            "\n",
            "Classification report :\n",
            "              precision    recall  f1-score   support\n",
            "\n",
            "       fresh       0.78      0.76      0.77     10004\n",
            "      rotten       0.77      0.78      0.77      9996\n",
            "\n",
            "    accuracy                           0.77     20000\n",
            "   macro avg       0.77      0.77      0.77     20000\n",
            "weighted avg       0.77      0.77      0.77     20000\n",
            "\n"
          ],
          "name": "stdout"
        }
      ]
    },
    {
      "cell_type": "markdown",
      "metadata": {
        "id": "IDAe3WwQmJm3",
        "colab_type": "text"
      },
      "source": [
        "# Linear Discriminant Analysis approach"
      ]
    },
    {
      "cell_type": "code",
      "metadata": {
        "id": "RckqZMEOkyLW",
        "colab_type": "code",
        "colab": {}
      },
      "source": [
        "lda = LinearDiscriminantAnalysis()\n",
        "lda_f = lda.fit(train_X, train_y)\n",
        "train_X = lda_f.transform(train_X)\n",
        "test_X = lda_f.transform(test_X)"
      ],
      "execution_count": 0,
      "outputs": []
    },
    {
      "cell_type": "markdown",
      "metadata": {
        "id": "DFwW2fh3miDh",
        "colab_type": "text"
      },
      "source": [
        "## Naive Bayes"
      ]
    },
    {
      "cell_type": "code",
      "metadata": {
        "id": "ICcBM6qmkyRB",
        "colab_type": "code",
        "outputId": "39b448f1-25ea-405a-ab38-616fee368c2b",
        "colab": {
          "base_uri": "https://localhost:8080/",
          "height": 35
        }
      },
      "source": [
        "model_NB = BernoulliNB()\n",
        "model_NB.fit(train_X, train_y)"
      ],
      "execution_count": 0,
      "outputs": [
        {
          "output_type": "execute_result",
          "data": {
            "text/plain": [
              "BernoulliNB(alpha=1.0, binarize=0.0, class_prior=None, fit_prior=True)"
            ]
          },
          "metadata": {
            "tags": []
          },
          "execution_count": 12
        }
      ]
    },
    {
      "cell_type": "code",
      "metadata": {
        "id": "4kr0EzCykyW6",
        "colab_type": "code",
        "outputId": "1445a6d3-074e-4345-ffde-ccbf716e7ac5",
        "colab": {
          "base_uri": "https://localhost:8080/",
          "height": 595
        }
      },
      "source": [
        "print('Test accuracy :', round(model_NB.score(test_X, test_y)*100,2))\n",
        "print()\n",
        "pred_test_labels = model_NB.predict(test_X)\n",
        "print('Confusion Matrix on Test Set :')\n",
        "cm=confusion_matrix(test_y, pred_test_labels)\n",
        "df_cm = pd.DataFrame(cm, index = ['fresh', 'rotten'], columns = ['fresh', 'rotten'])\n",
        "# plt.figure(figsize = (8,5))\n",
        "sns.heatmap(df_cm, annot=True, fmt=\"d\", cmap=\"YlGnBu\", annot_kws={\"fontsize\":12})\n",
        "plt.show()\n",
        "print()\n",
        "tn, fp, fn, tp = confusion_matrix(test_y, pred_test_labels).ravel()\n",
        "print('True Positives :', tp)\n",
        "print('False Positives :', fp)\n",
        "print('True Negatives :', tn)\n",
        "print('False Negatives :', fn)\n",
        "print()\n",
        "print('Classification report :')\n",
        "print(classification_report(test_y, pred_test_labels))"
      ],
      "execution_count": 0,
      "outputs": [
        {
          "output_type": "stream",
          "text": [
            "Test accuracy : 74.58\n",
            "\n",
            "Confusion Matrix on Test Set :\n"
          ],
          "name": "stdout"
        },
        {
          "output_type": "display_data",
          "data": {
            "image/png": "[encoded data removed]",
            "text/plain": [
              "<Figure size 432x288 with 2 Axes>"
            ]
          },
          "metadata": {
            "tags": [],
            "needs_background": "light"
          }
        },
        {
          "output_type": "stream",
          "text": [
            "\n",
            "True Positives : 7479\n",
            "False Positives : 2559\n",
            "True Negatives : 7437\n",
            "False Negatives : 2525\n",
            "\n",
            "Classification report :\n",
            "              precision    recall  f1-score   support\n",
            "\n",
            "       fresh       0.75      0.74      0.75      9996\n",
            "      rotten       0.75      0.75      0.75     10004\n",
            "\n",
            "    accuracy                           0.75     20000\n",
            "   macro avg       0.75      0.75      0.75     20000\n",
            "weighted avg       0.75      0.75      0.75     20000\n",
            "\n"
          ],
          "name": "stdout"
        }
      ]
    },
    {
      "cell_type": "markdown",
      "metadata": {
        "id": "9LzBPJ_nmmM_",
        "colab_type": "text"
      },
      "source": [
        "## Logistic Regression"
      ]
    },
    {
      "cell_type": "code",
      "metadata": {
        "id": "gHp9WujpkynF",
        "colab_type": "code",
        "outputId": "b894d72b-5231-462e-d8df-6cff6ffa2b89",
        "colab": {
          "base_uri": "https://localhost:8080/",
          "height": 104
        }
      },
      "source": [
        "model_LR = LogisticRegression(max_iter=1000)\n",
        "model_LR.fit(train_X, train_y)"
      ],
      "execution_count": 0,
      "outputs": [
        {
          "output_type": "execute_result",
          "data": {
            "text/plain": [
              "LogisticRegression(C=1.0, class_weight=None, dual=False, fit_intercept=True,\n",
              "                   intercept_scaling=1, l1_ratio=None, max_iter=1000,\n",
              "                   multi_class='auto', n_jobs=None, penalty='l2',\n",
              "                   random_state=None, solver='lbfgs', tol=0.0001, verbose=0,\n",
              "                   warm_start=False)"
            ]
          },
          "metadata": {
            "tags": []
          },
          "execution_count": 21
        }
      ]
    },
    {
      "cell_type": "code",
      "metadata": {
        "id": "Go7oibf5kyr_",
        "colab_type": "code",
        "outputId": "baefa1af-6714-42a0-8bcd-d8681c4e7be0",
        "colab": {
          "base_uri": "https://localhost:8080/",
          "height": 595
        }
      },
      "source": [
        "print('Test accuracy :', round(model_LR.score(test_X, test_y)*100,2))\n",
        "print()\n",
        "pred_test_labels = model_LR.predict(test_X)\n",
        "print('Confusion Matrix on Test Set :')\n",
        "cm=confusion_matrix(test_y, pred_test_labels)\n",
        "df_cm = pd.DataFrame(cm, index = ['fresh', 'rotten'], columns = ['fresh', 'rotten'])\n",
        "# plt.figure(figsize = (8,5))\n",
        "sns.heatmap(df_cm, annot=True, fmt=\"d\", cmap=\"YlGnBu\", annot_kws={\"fontsize\":12})\n",
        "plt.show()\n",
        "print()\n",
        "tn, fp, fn, tp = confusion_matrix(test_y, pred_test_labels).ravel()\n",
        "print('True Positives :', tp)\n",
        "print('False Positives :', fp)\n",
        "print('True Negatives :', tn)\n",
        "print('False Negatives :', fn)\n",
        "print()\n",
        "print('Classification report :')\n",
        "print(classification_report(test_y, pred_test_labels))"
      ],
      "execution_count": 0,
      "outputs": [
        {
          "output_type": "stream",
          "text": [
            "Test accuracy : 74.58\n",
            "\n",
            "Confusion Matrix on Test Set :\n"
          ],
          "name": "stdout"
        },
        {
          "output_type": "display_data",
          "data": {
            "image/png": "[encoded data removed]",
            "text/plain": [
              "<Figure size 432x288 with 2 Axes>"
            ]
          },
          "metadata": {
            "tags": [],
            "needs_background": "light"
          }
        },
        {
          "output_type": "stream",
          "text": [
            "\n",
            "True Positives : 7489\n",
            "False Positives : 2570\n",
            "True Negatives : 7426\n",
            "False Negatives : 2515\n",
            "\n",
            "Classification report :\n",
            "              precision    recall  f1-score   support\n",
            "\n",
            "       fresh       0.75      0.74      0.74      9996\n",
            "      rotten       0.74      0.75      0.75     10004\n",
            "\n",
            "    accuracy                           0.75     20000\n",
            "   macro avg       0.75      0.75      0.75     20000\n",
            "weighted avg       0.75      0.75      0.75     20000\n",
            "\n"
          ],
          "name": "stdout"
        }
      ]
    },
    {
      "cell_type": "markdown",
      "metadata": {
        "id": "K5HYPKqwm0vP",
        "colab_type": "text"
      },
      "source": [
        "## Random Forrest"
      ]
    },
    {
      "cell_type": "code",
      "metadata": {
        "id": "Lv6l0dw6ky9A",
        "colab_type": "code",
        "outputId": "c351e855-7cef-49f3-8686-cc4fda94ac99",
        "colab": {
          "base_uri": "https://localhost:8080/",
          "height": 156
        }
      },
      "source": [
        "model_RF = RandomForestClassifier()\n",
        "model_RF.fit(train_X, train_y)"
      ],
      "execution_count": 0,
      "outputs": [
        {
          "output_type": "execute_result",
          "data": {
            "text/plain": [
              "RandomForestClassifier(bootstrap=True, ccp_alpha=0.0, class_weight=None,\n",
              "                       criterion='gini', max_depth=None, max_features='auto',\n",
              "                       max_leaf_nodes=None, max_samples=None,\n",
              "                       min_impurity_decrease=0.0, min_impurity_split=None,\n",
              "                       min_samples_leaf=1, min_samples_split=2,\n",
              "                       min_weight_fraction_leaf=0.0, n_estimators=100,\n",
              "                       n_jobs=None, oob_score=False, random_state=None,\n",
              "                       verbose=0, warm_start=False)"
            ]
          },
          "metadata": {
            "tags": []
          },
          "execution_count": 6
        }
      ]
    },
    {
      "cell_type": "code",
      "metadata": {
        "id": "rbCXsHg3ky3f",
        "colab_type": "code",
        "outputId": "326888ad-9505-48f0-b6fc-684a841ce977",
        "colab": {
          "base_uri": "https://localhost:8080/",
          "height": 595
        }
      },
      "source": [
        "print('Test accuracy :', round(model_RF.score(test_X, test_y)*100,2))\n",
        "print()\n",
        "pred_test_labels = model_RF.predict(test_X)\n",
        "print('Confusion Matrix on Test Set :')\n",
        "cm=confusion_matrix(test_y, pred_test_labels)\n",
        "df_cm = pd.DataFrame(cm, index = ['fresh', 'rotten'], columns = ['fresh', 'rotten'])\n",
        "# plt.figure(figsize = (8,5))\n",
        "sns.heatmap(df_cm, annot=True,fmt=\"d\", cmap=\"YlGnBu\", annot_kws={\"fontsize\":12})\n",
        "plt.show()\n",
        "print()\n",
        "tn, fp, fn, tp = confusion_matrix(test_y, pred_test_labels).ravel()\n",
        "print('True Positives :', tp)\n",
        "print('False Positives :', fp)\n",
        "print('True Negatives :', tn)\n",
        "print('False Negatives :', fn)\n",
        "print()\n",
        "print('Classification report :')\n",
        "print(classification_report(test_y, pred_test_labels))"
      ],
      "execution_count": 0,
      "outputs": [
        {
          "output_type": "stream",
          "text": [
            "Test accuracy : 70.9\n",
            "\n",
            "Confusion Matrix on Test Set :\n"
          ],
          "name": "stdout"
        },
        {
          "output_type": "display_data",
          "data": {
            "image/png": "[encoded data removed]",
            "text/plain": [
              "<Figure size 432x288 with 2 Axes>"
            ]
          },
          "metadata": {
            "tags": [],
            "needs_background": "light"
          }
        },
        {
          "output_type": "stream",
          "text": [
            "\n",
            "True Positives : 7143\n",
            "False Positives : 2960\n",
            "True Negatives : 7036\n",
            "False Negatives : 2861\n",
            "\n",
            "Classification report :\n",
            "              precision    recall  f1-score   support\n",
            "\n",
            "       fresh       0.71      0.70      0.71      9996\n",
            "      rotten       0.71      0.71      0.71     10004\n",
            "\n",
            "    accuracy                           0.71     20000\n",
            "   macro avg       0.71      0.71      0.71     20000\n",
            "weighted avg       0.71      0.71      0.71     20000\n",
            "\n"
          ],
          "name": "stdout"
        }
      ]
    },
    {
      "cell_type": "markdown",
      "metadata": {
        "id": "Y-5Fxu40m4ea",
        "colab_type": "text"
      },
      "source": [
        "## SVM"
      ]
    },
    {
      "cell_type": "code",
      "metadata": {
        "id": "Uhhry48vzedy",
        "colab_type": "code",
        "outputId": "5fb801e4-c222-44c4-86a7-897f070e0e1a",
        "colab": {
          "base_uri": "https://localhost:8080/",
          "height": 87
        }
      },
      "source": [
        "model_SVM = SVC()\n",
        "model_SVM.fit(train_X, train_y)"
      ],
      "execution_count": 0,
      "outputs": [
        {
          "output_type": "execute_result",
          "data": {
            "text/plain": [
              "SVC(C=1.0, break_ties=False, cache_size=200, class_weight=None, coef0=0.0,\n",
              "    decision_function_shape='ovr', degree=3, gamma='scale', kernel='rbf',\n",
              "    max_iter=-1, probability=False, random_state=None, shrinking=True,\n",
              "    tol=0.001, verbose=False)"
            ]
          },
          "metadata": {
            "tags": []
          },
          "execution_count": 6
        }
      ]
    },
    {
      "cell_type": "code",
      "metadata": {
        "id": "0ezeDoO9zeQr",
        "colab_type": "code",
        "outputId": "2d5aaba2-44f6-4523-c84c-a643df879145",
        "colab": {
          "base_uri": "https://localhost:8080/",
          "height": 595
        }
      },
      "source": [
        "print('Test accuracy :', round(model_SVM.score(test_X, test_y)*100,2))\n",
        "print()\n",
        "pred_test_labels = model_SVM.predict(test_X)\n",
        "print('Confusion Matrix on Test Set :')\n",
        "cm=confusion_matrix(test_y, pred_test_labels)\n",
        "df_cm = pd.DataFrame(cm, index = ['fresh', 'rotten'], columns = ['fresh', 'rotten'])\n",
        "# plt.figure(figsize = (8,5))\n",
        "sns.heatmap(df_cm, annot=True,fmt=\"d\", cmap=\"YlGnBu\", annot_kws={\"fontsize\":12})\n",
        "plt.show()\n",
        "print()\n",
        "tn, fp, fn, tp = confusion_matrix(test_y, pred_test_labels).ravel()\n",
        "print('True Positives :', tp)\n",
        "print('False Positives :', fp)\n",
        "print('True Negatives :', tn)\n",
        "print('False Negatives :', fn)\n",
        "print()\n",
        "print('Classification report :')\n",
        "print(classification_report(test_y, pred_test_labels))"
      ],
      "execution_count": 0,
      "outputs": [
        {
          "output_type": "stream",
          "text": [
            "Test accuracy : 74.56\n",
            "\n",
            "Confusion Matrix on Test Set :\n"
          ],
          "name": "stdout"
        },
        {
          "output_type": "display_data",
          "data": {
            "image/png": "[encoded data removed]",
            "text/plain": [
              "<Figure size 432x288 with 2 Axes>"
            ]
          },
          "metadata": {
            "tags": [],
            "needs_background": "light"
          }
        },
        {
          "output_type": "stream",
          "text": [
            "\n",
            "True Positives : 7598\n",
            "False Positives : 2681\n",
            "True Negatives : 7315\n",
            "False Negatives : 2406\n",
            "\n",
            "Classification report :\n",
            "              precision    recall  f1-score   support\n",
            "\n",
            "       fresh       0.75      0.73      0.74      9996\n",
            "      rotten       0.74      0.76      0.75     10004\n",
            "\n",
            "    accuracy                           0.75     20000\n",
            "   macro avg       0.75      0.75      0.75     20000\n",
            "weighted avg       0.75      0.75      0.75     20000\n",
            "\n"
          ],
          "name": "stdout"
        }
      ]
    },
    {
      "cell_type": "markdown",
      "metadata": {
        "id": "IhvcPiC5tnOC",
        "colab_type": "text"
      },
      "source": [
        "## Artificial Neural Network"
      ]
    },
    {
      "cell_type": "code",
      "metadata": {
        "id": "JttMQC2bkyv6",
        "colab_type": "code",
        "colab": {}
      },
      "source": [
        "inp_shape = train_X.shape[1]"
      ],
      "execution_count": 0,
      "outputs": []
    },
    {
      "cell_type": "code",
      "metadata": {
        "id": "BBs38LOUkyqK",
        "colab_type": "code",
        "outputId": "b6b41506-4e21-41d2-fc82-e016b39ffeec",
        "colab": {
          "base_uri": "https://localhost:8080/",
          "height": 1000
        }
      },
      "source": [
        "avg_loss = []\n",
        "avg_val_loss = []\n",
        "avg_acc = []\n",
        "avg_val_acc = []\n",
        "test_acc_list = []\n",
        "\n",
        "# train_X = train_X.toarray()\n",
        "# test_X = test_X.toarray()\n",
        "model = Sequential()\n",
        "# model.add(Dropout(0.2))\n",
        "model.add(Dense(inp_shape,input_shape=(inp_shape,), activation='relu'))\n",
        "# model.add(Dropout(0.2))\n",
        "model.add(Dense(1, activation='sigmoid'))\n",
        "model.compile(loss='binary_crossentropy', optimizer='adam', metrics=['accuracy'])\n",
        "# model.summary()\n",
        "history = model.fit(train_X, train_y,\n",
        "                epochs=30,\n",
        "                batch_size=500,\n",
        "                validation_split=0.2,\n",
        "                shuffle = True)\n",
        "loss = history.history['loss']\n",
        "# avg_loss.append(sum(loss)/len(loss))\n",
        "\n",
        "val_loss = history.history['val_loss']\n",
        "# avg_val_loss.append(sum(val_loss)/len(val_loss))\n",
        "\n",
        "acc = history.history['accuracy']\n",
        "# avg_acc.append(sum(acc)/len(acc))\n",
        "\n",
        "val_acc = history.history['val_accuracy']\n",
        "# avg_val_acc.append(sum(val_acc)/len(val_acc))\n",
        "test_loss, test_acc = model.evaluate(test_X, test_y)\n",
        "# test_acc_list.append(test_acc)"
      ],
      "execution_count": 0,
      "outputs": [
        {
          "output_type": "stream",
          "text": [
            "Train on 64000 samples, validate on 16000 samples\n",
            "Epoch 1/30\n",
            "64000/64000 [==============================] - 0s 4us/step - loss: 0.6434 - accuracy: 0.7746 - val_loss: 0.6239 - val_accuracy: 0.7722\n",
            "Epoch 2/30\n",
            "64000/64000 [==============================] - 0s 3us/step - loss: 0.6047 - accuracy: 0.7733 - val_loss: 0.5872 - val_accuracy: 0.7703\n",
            "Epoch 3/30\n",
            "64000/64000 [==============================] - 0s 3us/step - loss: 0.5710 - accuracy: 0.7729 - val_loss: 0.5575 - val_accuracy: 0.7719\n",
            "Epoch 4/30\n",
            "64000/64000 [==============================] - 0s 3us/step - loss: 0.5453 - accuracy: 0.7734 - val_loss: 0.5360 - val_accuracy: 0.7721\n",
            "Epoch 5/30\n",
            "64000/64000 [==============================] - 0s 3us/step - loss: 0.5270 - accuracy: 0.7735 - val_loss: 0.5211 - val_accuracy: 0.7722\n",
            "Epoch 6/30\n",
            "64000/64000 [==============================] - 0s 3us/step - loss: 0.5145 - accuracy: 0.7734 - val_loss: 0.5110 - val_accuracy: 0.7721\n",
            "Epoch 7/30\n",
            "64000/64000 [==============================] - 0s 3us/step - loss: 0.5060 - accuracy: 0.7735 - val_loss: 0.5041 - val_accuracy: 0.7719\n",
            "Epoch 8/30\n",
            "64000/64000 [==============================] - 0s 3us/step - loss: 0.5002 - accuracy: 0.7734 - val_loss: 0.4993 - val_accuracy: 0.7720\n",
            "Epoch 9/30\n",
            "64000/64000 [==============================] - 0s 3us/step - loss: 0.4961 - accuracy: 0.7733 - val_loss: 0.4958 - val_accuracy: 0.7721\n",
            "Epoch 10/30\n",
            "64000/64000 [==============================] - 0s 3us/step - loss: 0.4930 - accuracy: 0.7736 - val_loss: 0.4931 - val_accuracy: 0.7722\n",
            "Epoch 11/30\n",
            "64000/64000 [==============================] - 0s 3us/step - loss: 0.4906 - accuracy: 0.7736 - val_loss: 0.4909 - val_accuracy: 0.7721\n",
            "Epoch 12/30\n",
            "64000/64000 [==============================] - 0s 3us/step - loss: 0.4886 - accuracy: 0.7738 - val_loss: 0.4891 - val_accuracy: 0.7726\n",
            "Epoch 13/30\n",
            "64000/64000 [==============================] - 0s 3us/step - loss: 0.4868 - accuracy: 0.7739 - val_loss: 0.4875 - val_accuracy: 0.7732\n",
            "Epoch 14/30\n",
            "64000/64000 [==============================] - 0s 3us/step - loss: 0.4852 - accuracy: 0.7743 - val_loss: 0.4861 - val_accuracy: 0.7732\n",
            "Epoch 15/30\n",
            "64000/64000 [==============================] - 0s 3us/step - loss: 0.4838 - accuracy: 0.7746 - val_loss: 0.4848 - val_accuracy: 0.7731\n",
            "Epoch 16/30\n",
            "64000/64000 [==============================] - 0s 3us/step - loss: 0.4824 - accuracy: 0.7747 - val_loss: 0.4836 - val_accuracy: 0.7728\n",
            "Epoch 17/30\n",
            "64000/64000 [==============================] - 0s 3us/step - loss: 0.4811 - accuracy: 0.7750 - val_loss: 0.4825 - val_accuracy: 0.7731\n",
            "Epoch 18/30\n",
            "64000/64000 [==============================] - 0s 3us/step - loss: 0.4800 - accuracy: 0.7750 - val_loss: 0.4816 - val_accuracy: 0.7731\n",
            "Epoch 19/30\n",
            "64000/64000 [==============================] - 0s 3us/step - loss: 0.4790 - accuracy: 0.7748 - val_loss: 0.4808 - val_accuracy: 0.7736\n",
            "Epoch 20/30\n",
            "64000/64000 [==============================] - 0s 3us/step - loss: 0.4780 - accuracy: 0.7747 - val_loss: 0.4800 - val_accuracy: 0.7738\n",
            "Epoch 21/30\n",
            "64000/64000 [==============================] - 0s 3us/step - loss: 0.4771 - accuracy: 0.7749 - val_loss: 0.4793 - val_accuracy: 0.7744\n",
            "Epoch 22/30\n",
            "64000/64000 [==============================] - 0s 3us/step - loss: 0.4763 - accuracy: 0.7748 - val_loss: 0.4787 - val_accuracy: 0.7745\n",
            "Epoch 23/30\n",
            "64000/64000 [==============================] - 0s 3us/step - loss: 0.4756 - accuracy: 0.7749 - val_loss: 0.4782 - val_accuracy: 0.7739\n",
            "Epoch 24/30\n",
            "64000/64000 [==============================] - 0s 3us/step - loss: 0.4750 - accuracy: 0.7751 - val_loss: 0.4778 - val_accuracy: 0.7741\n",
            "Epoch 25/30\n",
            "64000/64000 [==============================] - 0s 3us/step - loss: 0.4744 - accuracy: 0.7751 - val_loss: 0.4773 - val_accuracy: 0.7737\n",
            "Epoch 26/30\n",
            "64000/64000 [==============================] - 0s 3us/step - loss: 0.4739 - accuracy: 0.7752 - val_loss: 0.4769 - val_accuracy: 0.7739\n",
            "Epoch 27/30\n",
            "64000/64000 [==============================] - 0s 3us/step - loss: 0.4735 - accuracy: 0.7750 - val_loss: 0.4767 - val_accuracy: 0.7738\n",
            "Epoch 28/30\n",
            "64000/64000 [==============================] - 0s 3us/step - loss: 0.4731 - accuracy: 0.7749 - val_loss: 0.4763 - val_accuracy: 0.7738\n",
            "Epoch 29/30\n",
            "64000/64000 [==============================] - 0s 3us/step - loss: 0.4727 - accuracy: 0.7752 - val_loss: 0.4761 - val_accuracy: 0.7731\n",
            "Epoch 30/30\n",
            "64000/64000 [==============================] - 0s 3us/step - loss: 0.4724 - accuracy: 0.7749 - val_loss: 0.4759 - val_accuracy: 0.7729\n",
            "20000/20000 [==============================] - 0s 16us/step\n"
          ],
          "name": "stdout"
        }
      ]
    },
    {
      "cell_type": "code",
      "metadata": {
        "id": "B0fSmKHDkyj0",
        "colab_type": "code",
        "outputId": "f0fa119f-3195-42ff-80e8-bb830c9d21fe",
        "colab": {
          "base_uri": "https://localhost:8080/",
          "height": 595
        }
      },
      "source": [
        "print('Test accuracy :', round(test_acc*100,2))\n",
        "print()\n",
        "pred_test_labels = model.predict(test_X)\n",
        "thelist = []\n",
        "for i in range(len(test_y)):\n",
        "    if pred_test_labels[i][0] > 0.5:\n",
        "        thelist.append(1)\n",
        "    else:\n",
        "        thelist.append(0)\n",
        "print('Confusion Matrix on Test Set :')\n",
        "cm=confusion_matrix(test_y, thelist)\n",
        "df_cm = pd.DataFrame(cm, index = ['fresh', 'rotten'], columns = ['fresh', 'rotten'])\n",
        "# plt.figure(figsize = (8,5))\n",
        "sns.heatmap(df_cm, annot=True,fmt=\"d\", cmap=\"YlGnBu\", annot_kws={\"fontsize\":12})\n",
        "plt.show()\n",
        "print()\n",
        "tn, fp, fn, tp = confusion_matrix(test_y, thelist).ravel()\n",
        "print('True Positives :', tp)\n",
        "print('False Positives :', fp)\n",
        "print('True Negatives :', tn)\n",
        "print('False Negatives :', fn)\n",
        "print()\n",
        "print('Classification report :')\n",
        "print(classification_report(test_y, thelist, target_names=['fresh', 'rotten']))"
      ],
      "execution_count": 0,
      "outputs": [
        {
          "output_type": "stream",
          "text": [
            "Test accuracy : 74.57\n",
            "\n",
            "Confusion Matrix on Test Set :\n"
          ],
          "name": "stdout"
        },
        {
          "output_type": "display_data",
          "data": {
            "image/png": "[encoded data removed]",
            "text/plain": [
              "<Figure size 432x288 with 2 Axes>"
            ]
          },
          "metadata": {
            "tags": [],
            "needs_background": "light"
          }
        },
        {
          "output_type": "stream",
          "text": [
            "\n",
            "True Positives : 7382\n",
            "False Positives : 2472\n",
            "True Negatives : 7532\n",
            "False Negatives : 2614\n",
            "\n",
            "Classification report :\n",
            "              precision    recall  f1-score   support\n",
            "\n",
            "       fresh       0.74      0.75      0.75     10004\n",
            "      rotten       0.75      0.74      0.74      9996\n",
            "\n",
            "    accuracy                           0.75     20000\n",
            "   macro avg       0.75      0.75      0.75     20000\n",
            "weighted avg       0.75      0.75      0.75     20000\n",
            "\n"
          ],
          "name": "stdout"
        }
      ]
    },
    {
      "cell_type": "code",
      "metadata": {
        "id": "kG1vj_3XkyPC",
        "colab_type": "code",
        "colab": {}
      },
      "source": [
        ""
      ],
      "execution_count": 0,
      "outputs": []
    },
    {
      "cell_type": "code",
      "metadata": {
        "id": "5vo4QMj7kyJA",
        "colab_type": "code",
        "colab": {}
      },
      "source": [
        ""
      ],
      "execution_count": 0,
      "outputs": []
    }
  ]
}